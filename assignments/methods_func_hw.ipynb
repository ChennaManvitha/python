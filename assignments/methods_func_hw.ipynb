{
 "cells": [
  {
   "cell_type": "code",
   "execution_count": 1,
   "metadata": {},
   "outputs": [],
   "source": [
    "#function that computes volume of sphere\n",
    "def vol(rad):\n",
    "    return (4/3)*(3.5)*(rad*3)\n"
   ]
  },
  {
   "cell_type": "code",
   "execution_count": 2,
   "metadata": {},
   "outputs": [
    {
     "data": {
      "text/plain": [
       "41.99999999999999"
      ]
     },
     "execution_count": 2,
     "metadata": {},
     "output_type": "execute_result"
    }
   ],
   "source": [
    "vol(3)"
   ]
  },
  {
   "cell_type": "code",
   "execution_count": 12,
   "metadata": {},
   "outputs": [],
   "source": [
    "#func that check whether the number is in the given range inlcuding high and low \n",
    "def num_check(num,low,high):\n",
    "    if num in range(low,high+1):\n",
    "        print (f'{num}is in the range of low,high')\n",
    "    else:\n",
    "        print(f'{num} is not in given range')\n"
   ]
  },
  {
   "cell_type": "code",
   "execution_count": 13,
   "metadata": {},
   "outputs": [
    {
     "name": "stdout",
     "output_type": "stream",
     "text": [
      "3 is not in given range\n"
     ]
    }
   ],
   "source": [
    "num_check(3,1,2)"
   ]
  },
  {
   "cell_type": "code",
   "execution_count": 14,
   "metadata": {},
   "outputs": [
    {
     "name": "stdout",
     "output_type": "stream",
     "text": [
      "6is in the range of low,high\n"
     ]
    }
   ],
   "source": [
    "num_check(6,1,9)"
   ]
  },
  {
   "cell_type": "code",
   "execution_count": 22,
   "metadata": {},
   "outputs": [],
   "source": [
    "#prgm to print the count of the uppercase and lowercase letter in the given text\n",
    "def up_low(s):\n",
    "    low_count=0\n",
    "    up_count=0\n",
    "    for character in s:\n",
    "        if character.isupper():\n",
    "            up_count+=1\n",
    "        elif character.islower():\n",
    "            low_count+=1\n",
    "        else:\n",
    "            pass\n",
    "    print(up_count,low_count)\n",
    "    \n",
    "        \n",
    "            \n",
    "\n",
    "\n",
    "        \n"
   ]
  },
  {
   "cell_type": "code",
   "execution_count": 23,
   "metadata": {},
   "outputs": [
    {
     "name": "stdout",
     "output_type": "stream",
     "text": [
      "6 23\n"
     ]
    }
   ],
   "source": [
    "up_low('this iS aN Python Practise seSSion')"
   ]
  },
  {
   "cell_type": "code",
   "execution_count": 29,
   "metadata": {},
   "outputs": [],
   "source": [
    "#to find the unique numbers in a list and print it in seperate list\n",
    "def unique_lst(lst):\n",
    "    seen_numbers=[]\n",
    "    for num in lst:\n",
    "        if num not in seen_numbers:\n",
    "            seen_numbers.append(num)\n",
    "    return seen_numbers\n",
    "\n"
   ]
  },
  {
   "cell_type": "code",
   "execution_count": 30,
   "metadata": {},
   "outputs": [
    {
     "name": "stdout",
     "output_type": "stream",
     "text": [
      "[1, 2, 3, 4, 7, 6, 5]\n"
     ]
    }
   ],
   "source": [
    "new_lst=unique_lst([1,2,2,3,4,7,6,5,4])\n",
    "print(new_lst)"
   ]
  },
  {
   "cell_type": "code",
   "execution_count": 31,
   "metadata": {},
   "outputs": [],
   "source": [
    "#multiply the numbers in a list\n",
    "def multiply(num):\n",
    "    total=1\n",
    "    for number in num:\n",
    "        total=total*number\n",
    "    return total"
   ]
  },
  {
   "cell_type": "code",
   "execution_count": 32,
   "metadata": {},
   "outputs": [
    {
     "data": {
      "text/plain": [
       "120"
      ]
     },
     "execution_count": 32,
     "metadata": {},
     "output_type": "execute_result"
    }
   ],
   "source": [
    "multiply([2,3,4,5])"
   ]
  },
  {
   "cell_type": "code",
   "execution_count": 33,
   "metadata": {},
   "outputs": [],
   "source": [
    "# palindrome or not of a string\n",
    "def reverse_string(s):\n",
    "     if s[::1]== s[::-1]:\n",
    "          print(\"it is palindorme\")\n",
    "     else:\n",
    "          print('not a palindorme')\n",
    "\n",
    "\n"
   ]
  },
  {
   "cell_type": "code",
   "execution_count": 37,
   "metadata": {},
   "outputs": [
    {
     "name": "stdout",
     "output_type": "stream",
     "text": [
      "not a palindorme\n"
     ]
    }
   ],
   "source": [
    "reverse_string('hello')\n",
    " "
   ]
  },
  {
   "cell_type": "code",
   "execution_count": 38,
   "metadata": {},
   "outputs": [
    {
     "name": "stdout",
     "output_type": "stream",
     "text": [
      "it is palindorme\n"
     ]
    }
   ],
   "source": [
    "reverse_string('madam')"
   ]
  },
  {
   "cell_type": "code",
   "execution_count": 39,
   "metadata": {},
   "outputs": [
    {
     "name": "stdout",
     "output_type": "stream",
     "text": [
      "not a palindorme\n"
     ]
    }
   ],
   "source": [
    "reverse_string('nurses run')"
   ]
  },
  {
   "cell_type": "code",
   "execution_count": 42,
   "metadata": {},
   "outputs": [],
   "source": [
    "#above code did not work for the string with space\n",
    "def palindrome(s):\n",
    "    s=s.replace(' ','').lower()\n",
    "    if s==s[::-1]:\n",
    "        print('palindrome')\n",
    "    else:\n",
    "        print('not palindrom')\n"
   ]
  },
  {
   "cell_type": "code",
   "execution_count": 43,
   "metadata": {},
   "outputs": [
    {
     "name": "stdout",
     "output_type": "stream",
     "text": [
      "palindrome\n"
     ]
    }
   ],
   "source": [
    "palindrome('nurses run')"
   ]
  },
  {
   "cell_type": "code",
   "execution_count": null,
   "metadata": {},
   "outputs": [],
   "source": [
    "\n",
    "        "
   ]
  }
 ],
 "metadata": {
  "kernelspec": {
   "display_name": "Python 3",
   "language": "python",
   "name": "python3"
  },
  "language_info": {
   "codemirror_mode": {
    "name": "ipython",
    "version": 3
   },
   "file_extension": ".py",
   "mimetype": "text/x-python",
   "name": "python",
   "nbconvert_exporter": "python",
   "pygments_lexer": "ipython3",
   "version": "3.11.9"
  }
 },
 "nbformat": 4,
 "nbformat_minor": 2
}
